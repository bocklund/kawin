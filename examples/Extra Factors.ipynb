{
 "cells": [
  {
   "cell_type": "markdown",
   "source": [
    "# Extra Factors in the KWN Model\r\n",
    "\r\n",
    "The default options in the KWN model assumes bulk nucleation and a spherical precipitate. However, in real-life systems, these assumptions may not be true. Several options are present to model heterogenous nucleation and non-spherical precipitate shapes.\r\n",
    "\r\n",
    "## Nucleation\r\n",
    "\r\n",
    "The options for the nucleation site density includes the following: 'bulk', 'dislocations', 'grain_boundaries', 'grain_edges', 'grain_corners'\r\n",
    "\r\n",
    "The nucleation site density ($N_0$) for bulk nucleation is determined by the number of solutes in the bulk lattice. For dislocation, $N_0$ depends on the dislocation density. $N_0$ for grain boundaries, edges and corners depends on the grain size [1]. For grain boundary nucleation, the change in surface energy accounts for both the creation of the precipitate/matrix interface and removal of grain boundary, for which the grain boundary energy must be defined [2]. By default, the grain boundary energy is set to 0.3 $J/m^2$.\r\n",
    "\r\n",
    "While the KWNModel will automatically calculate the nucleation site densities for each site type, these values can be manually set."
   ],
   "metadata": {}
  },
  {
   "cell_type": "code",
   "execution_count": 1,
   "source": [
    "from kawin.KWNBase import PrecipitateBase\r\n",
    "\r\n",
    "model = PrecipitateBase(t0 = 0, tf = 100, steps = 2e3, linearTimeSpacing = True)\r\n",
    "\r\n",
    "#Change nucleation site type to grain boundaries\r\n",
    "model.setNucleationSite('grain_boundaries')\r\n",
    "\r\n",
    "#Set grain boundary energy for nucleation on grain boundaries/edges/corners\r\n",
    "model.setGrainBoundaryEnergy(0.3)\r\n",
    "\r\n",
    "#Change dislocation density and grain size\r\n",
    "model.setNucleationDensity(grainSize = 10, aspectRatio = 1, dislocationDensity = 5e12)\r\n",
    "\r\n",
    "#Manually set nucleation site density for each site type\r\n",
    "model.bulkN0 = 1e30          #Bulk nucleation site density\r\n",
    "model.dislocationN0 = 1e30   #Site density on dislocations\r\n",
    "model.GBareaN0 = 1e30        #Site density on grain boundaries\r\n",
    "model.GBedgeN0 = 1e30        #Site density on grain edges\r\n",
    "model.GBcornerN0 = 1e30      #Site density on grain corners"
   ],
   "outputs": [],
   "metadata": {}
  },
  {
   "cell_type": "markdown",
   "source": [
    "## Shape factors\r\n",
    "\r\n",
    "Currently, the KWN model has support for ellipsoidal (prolate/needle and oblate/plate) and cuboidal precipitates. For cuboidal precipitates the cubic factor currently set constant at $\\sqrt{2}$ [3,4]. These shapes are defined in the KWN model by their equivalent spherical radius ($R$) and an aspect ratio ($\\alpha$), where the $\\alpha$ can either be constant or as a function of $R$.\r\n",
    "\r\n",
    "The aspect ratio is defined as the ratio of the long axis over the short axis. Conversion between the radius along the short axis ($r$) and the equivalent spherical radius ($R$) is given by:\r\n",
    "\r\n",
    "Needle:   $ R = \\sqrt[3]{\\alpha} r $\r\n",
    "\r\n",
    "Plate:   $ R = \\sqrt[3]{\\alpha^2} r $\r\n",
    "\r\n",
    "Cuboidal:   $ R = \\sqrt[3]{\\frac{3 \\alpha}{4 \\pi}} r $\r\n",
    "\r\n",
    "Deviation from a spherical precipitate changes both the thermodynamics (Gibbs-Thomson effect) and kinetics (growth rate). The free energy contribution from the Gibbs-Thomson effect is given by:\r\n",
    "\r\n",
    "$$ \\Delta G_{TH} = g(\\alpha) \\frac{2 \\gamma V_M^\\beta}{R} $$\r\n",
    "\r\n",
    "The changes in the growth rate is given by:\r\n",
    "\r\n",
    "$$ \\frac{dR}{dt} = f(\\alpha) \\frac{dR}{dt} \\bigg\\rvert_{sphere} $$\r\n",
    "\r\n",
    "The functions of $g(\\alpha)$ and $f(\\alpha)$ are taken from Ref. 3 and 4."
   ],
   "metadata": {}
  },
  {
   "cell_type": "code",
   "execution_count": 2,
   "source": [
    "#Change precipitate shape\r\n",
    "model.setAspectRatioNeedle(ratio = 1.5)\r\n",
    "model.setAspectRatioPlate(ratio = 1.5)\r\n",
    "model.setAspectRatioCuboidal(ratio = 1.5)\r\n",
    "\r\n",
    "#Remove aspect ratio and set to spherical shape\r\n",
    "model.setSpherical()\r\n",
    "\r\n",
    "#Radius-dependent aspect ratio\r\n",
    "ar = lambda r: 2.3 * (r/1e-9)**1.1\r\n",
    "model.setAspectRatioNeedle(ratio = ar)"
   ],
   "outputs": [],
   "metadata": {}
  },
  {
   "cell_type": "markdown",
   "source": [
    "## Strain Energy\r\n",
    "\r\n",
    "Molar volume differences between the matrix and precipitate phase can induce strains, which reduces the driving force for nucleation. For spherical and cuboidal precipitates, the strain energy can be calculated by Khachaturyan's approximation. For ellipsoidal precipitates, the strain energy can be calculated using Eshelby's tensor [4,5].\r\n",
    "\r\n",
    "Similar to the Thermodynamics and Surrogate modules, the strain energy is calculated using a module separated from KWNBase. Inserting the strain energy parameters requires creating and setting up a StrainEnergy object, then inserting it into the KWN model for a specified phase.\r\n",
    "\r\n",
    "The StrainEnergy object requires the elastic constants and eigenstrains to be defined. External stresses can also be defined if applicable. The eigenstrains and external stress can be defined as a tensor (3x3), values along the three axes (array of length 3), or a single value to be applied on all 3 axes. The elastic constants can be defined using its 6x6 tensor, the three elastic constants ($c_{11}$, $c_{12}$ and $c_{44}$), or by at least two moduli (e.g. elastic modulus, poission ratio, shear modulus, bulk modulus, etc.)"
   ],
   "metadata": {}
  },
  {
   "cell_type": "code",
   "execution_count": 3,
   "source": [
    "from kawin.ElasticFactors import StrainEnergy\r\n",
    "\r\n",
    "#Create StrainEnergy object\r\n",
    "se = StrainEnergy()\r\n",
    "\r\n",
    "#Set elastic tensor by its elastic modulus and possion ratio\r\n",
    "se.setModuli(E = 100e9, nu = -0.3)\r\n",
    "\r\n",
    "#Set eigenstrains\r\n",
    "# [[0.01, 0.00, 0.00]\r\n",
    "#  [0.00, 0.01, 0.00]\r\n",
    "#  [0.00, 0.00, 0.02]]\r\n",
    "se.setEigenstrain([0.01, 0.01, 0.02])\r\n",
    "\r\n",
    "#Insert StrainEnergy object into KWN model\r\n",
    "model.setStrainEnergy(se)"
   ],
   "outputs": [],
   "metadata": {}
  },
  {
   "cell_type": "markdown",
   "source": [
    "# Strain Energy Example (Cu-Ti system)\r\n",
    "\r\n",
    "In the Cu-Ti system (dilute Ti), the needle-like $Cu_4Ti$ precipitate creates lattice strains in the Cu-matrix. The following parameters are applicable to this system (from K. Wu et al (2018)):\r\n",
    "\r\n",
    "Eigenstrains of the $Cu_4Ti$ precipitate:\r\n",
    "\r\n",
    "$ \\epsilon_{11} = 0.022 $\r\n",
    "\r\n",
    "$ \\epsilon_{22} = 0.022 $\r\n",
    "\r\n",
    "$ \\epsilon_{33} = 0.003 $\r\n",
    "\r\n",
    "Elastic constants for the Cu matrix\r\n",
    "\r\n",
    "$ c_{11} = 168.4 \\quad GPa $\r\n",
    "\r\n",
    "$ c_{12} = 121.4 \\quad GPa $\r\n",
    "\r\n",
    "$ c_{44} = 75.4 \\quad GPa $\r\n",
    "\r\n",
    "We can use these values to determine the strain energy of the $Cu_4Ti$ precipitate for any given aspect ratio. In this example, we'll vary the aspect ratio from 1 to 2 and calculate the strain energy. The volume of the precipitate will be set constant to the volume of a sphere with a radius of 4 nm.\r\n",
    "\r\n",
    "We will also apply different stresses (-400 MPa, 0 MPa, 400 MPa) along the first axis ($\\sigma_{11} = \\sigma^0$)."
   ],
   "metadata": {}
  },
  {
   "cell_type": "code",
   "execution_count": 4,
   "source": [
    "import numpy as np\r\n",
    "import matplotlib.pyplot as plt\r\n",
    "\r\n",
    "#By default, StrainEnergy outputs 0\r\n",
    "#This is changed within the KWN model before the model is solved for\r\n",
    "#However, we can manually change it. For this example, we need to set it to the calculate for ellipsoidal shapes\r\n",
    "se.setEllipsoidal()\r\n",
    "\r\n",
    "#Set elastic tensor by c11, c12 and c44 values\r\n",
    "se.setElasticConstants(168.4e9, 121.4e9, 75.4e9)\r\n",
    "\r\n",
    "#Set eigenstrains\r\n",
    "se.setEigenstrain([0.022, 0.022, 0.003])\r\n",
    "\r\n",
    "#Aspect ratio\r\n",
    "aspect = np.linspace(1, 2, 100)\r\n",
    "ratio = 4e-9 / np.cbrt(aspect)\r\n",
    "\r\n",
    "#Vary external stress along 1st axis\r\n",
    "sig = [-400e6, 0, 400e6]\r\n",
    "r = np.array([ratio, ratio, aspect*ratio]).T\r\n",
    "for i in range(3):\r\n",
    "    se.setAppliedStress([sig[i], 0, 0])\r\n",
    "    E = se.strainEnergy(r)\r\n",
    "    plt.plot(aspect, E, label=r'$\\sigma$ = {:.0f} MPa'.format(sig[i]/1e6))\r\n",
    "plt.xlim([1, 2])\r\n",
    "plt.ylim([1.0e-17, 1.6e-17])\r\n",
    "plt.xlabel('Aspect Ratio')\r\n",
    "plt.ylabel('Strain Energy (J)')\r\n",
    "plt.legend()\r\n",
    "plt.show()"
   ],
   "outputs": [
    {
     "output_type": "display_data",
     "data": {
      "image/png": "[encoded data removed]",
      "text/plain": [
       "<Figure size 432x288 with 1 Axes>"
      ]
     },
     "metadata": {
      "needs_background": "light"
     }
    }
   ],
   "metadata": {}
  },
  {
   "cell_type": "markdown",
   "source": [
    "## References\r\n",
    "\r\n",
    "1. Kozeschnik, Ernst et al. Precipitation Modeling, Momentum Press, 2012\r\n",
    "2. P. J. Clemm and J. C. Fisher, \"The Influence of Grain Boundaries on the Nucleation of Secondary Phases\" *Acta Metallurgica* **3** (1955) p. 70\r\n",
    "3. B. Holmedal, E. Osmundsen, Q. Du, \"Precipitation of Non-Spherical Particles in Aluminum Alloys Part I: Generalization of the Kampmann-Wagner Numerical Model\" *Metallurgical and Materials Transactions A* **47** (2016) p. 581\r\n",
    "4. K. Wu, Q. Chen and P. Mason, \"Simulation of Precipitation Kinetics with Non-Spherical Particles\" *J. Phase Equilib. Diffus.* **39** (2018) p. 571\r\n",
    "5. C. Weinberger, W. Cai and D. Barnett, ME340B Lecture Notes - Elasticity of Microscopic Structures, Standford University 2005. http://micro.standford.edu/~caiwei/me340b/content/me340b-notes_v01.pdf"
   ],
   "metadata": {}
  }
 ],
 "metadata": {
  "interpreter": {
   "hash": "aeb1f0e8eece0f42caa0344dc51b89963a3e12d2287d92741ba047073b8d819b"
  },
  "kernelspec": {
   "name": "python3",
   "display_name": "Python 3.7.9 64-bit ('base': conda)"
  },
  "language_info": {
   "codemirror_mode": {
    "name": "ipython",
    "version": 3
   },
   "file_extension": ".py",
   "mimetype": "text/x-python",
   "name": "python",
   "nbconvert_exporter": "python",
   "pygments_lexer": "ipython3",
   "version": "3.7.9"
  }
 },
 "nbformat": 4,
 "nbformat_minor": 2
}