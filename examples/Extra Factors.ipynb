{
 "cells": [
  {
   "cell_type": "markdown",
   "source": [
    "# Extra Factors in the KWN Model\r\n",
    "\r\n",
    "The default options in the KWN model assumes bulk nucleation and a spherical precipitate. However, in real-life systems, these assumptions may not be true. Several options are present to model heterogenous nucleation and non-spherical precipitate shapes.\r\n",
    "\r\n",
    "## Nucleation\r\n",
    "\r\n",
    "The options for the nucleation site density includes the following: 'bulk', 'dislocations', 'grain_boundaries', 'grain_edges', 'grain_corners'\r\n",
    "\r\n",
    "The nucleation site density ($N_0$) for bulk nucleation is determined by the number of solutes in the bulk lattice. For dislocation, $N_0$ depends on the dislocation density. $N_0$ for grain boundaries, edges and corners depends on the grain size [1]. For grain boundary nucleation, the change in surface energy accounts for both the creation of the precipitate/matrix interface and removal of grain boundary, for which the grain boundary energy must be defined [2]. By default, the grain boundary energy is set to 0.3 $J/m^2$.\r\n",
    "\r\n",
    "While the KWNModel will automatically calculate the nucleation site densities for each site type, these values can be manually set."
   ],
   "metadata": {}
  },
  {
   "cell_type": "code",
   "execution_count": 16,
   "source": [
    "from kawin.KWNBase import PrecipitateBase\r\n",
    "\r\n",
    "model = PrecipitateBase(t0 = 0, tf = 100, steps = 2e3, linearTimeSpacing = True)\r\n",
    "\r\n",
    "#Change nucleation site type to grain boundaries\r\n",
    "model.setNucleationSite('grain_boundaries')\r\n",
    "\r\n",
    "#Set grain boundary energy for nucleation on grain boundaries/edges/corners\r\n",
    "model.setGrainBoundaryEnergy(0.3)\r\n",
    "\r\n",
    "#Change dislocation density and grain size\r\n",
    "model.setNucleationDensity(grainSize = 10, aspectRatio = 1, dislocationDensity = 5e12)\r\n",
    "\r\n",
    "#Manually set nucleation site density for each site type\r\n",
    "model.bulkN0 = 1e30          #Bulk nucleation site density\r\n",
    "model.dislocationN0 = 1e30   #Site density on dislocations\r\n",
    "model.GBareaN0 = 1e30        #Site density on grain boundaries\r\n",
    "model.GBedgeN0 = 1e30        #Site density on grain edges\r\n",
    "model.GBcornerN0 = 1e30      #Site density on grain corners"
   ],
   "outputs": [],
   "metadata": {}
  },
  {
   "cell_type": "markdown",
   "source": [
    "## Shape factors\r\n",
    "\r\n",
    "Currently, the KWN model has support for ellipsoidal (prolate/needle and oblate/plate) and cuboidal precipitates. For cuboidal precipitates the cubic factor currently set constant at $\\sqrt{2}$ [3,4]. These shapes are defined in the KWN model by their equivalent spherical radius ($R_{sph}$) and an aspect ratio ($\\alpha$), where the $\\alpha$ can either be constant or as a function of $R_{sph}$.\r\n",
    "\r\n",
    "The aspect ratio is defined as the ratio of the long axis over the short axis. Conversion between the radius along the short axis ($r$) and the equivalent spherical radius ($R_{sph}$) is given by:\r\n",
    "\r\n",
    "Needle:   $ R_{sph} = \\sqrt[3]{\\alpha} r $\r\n",
    "\r\n",
    "Plate:   $ R_{sph} = \\sqrt[3]{\\alpha^2} r $\r\n",
    "\r\n",
    "Cuboidal:   $ R_{sph} = \\sqrt[3]{\\frac{3 \\alpha}{4 \\pi}} r $\r\n",
    "\r\n",
    "Deviation from a spherical precipitate changes both the thermodynamics (Gibbs-Thomson effect) and kinetics (growth rate). The free energy contribution from the Gibbs-Thomson effect is given by:\r\n",
    "\r\n",
    "$$ \\Delta G_{TH} = g(\\alpha) \\frac{2 \\gamma V_M^\\beta}{R_{sph}} $$\r\n",
    "\r\n",
    "The changes in the growth rate is given by:\r\n",
    "\r\n",
    "$$ \\frac{dR}{dt} = f(\\alpha) \\frac{dR_{sph}}{dt} $$\r\n",
    "\r\n",
    "The functions of $g(\\alpha)$ and $f(\\alpha)$ are taken from Ref. 3 and 4."
   ],
   "metadata": {}
  },
  {
   "cell_type": "code",
   "execution_count": 17,
   "source": [
    "#Change precipitate shape\r\n",
    "model.setAspectRatioNeedle(ratio = 1.5)\r\n",
    "model.setAspectRatioPlate(ratio = 1.5)\r\n",
    "model.setAspectRatioCuboidal(ratio = 1.5)\r\n",
    "\r\n",
    "#Remove aspect ratio and set to spherical shape\r\n",
    "model.setSpherical()\r\n",
    "\r\n",
    "#Radius-dependent aspect ratio\r\n",
    "ar = lambda r: 2.3 * (r/1e-9)**1.1\r\n",
    "model.setAspectRatioNeedle(ratio = ar)"
   ],
   "outputs": [],
   "metadata": {}
  },
  {
   "cell_type": "markdown",
   "source": [
    "## Strain Energy\r\n",
    "\r\n",
    "Molar volume differences between the matrix and precipitate phase can induce strains, which reduces the driving force for nucleation. For spherical and cuboidal precipitates, the strain energy can be calculated by Khachaturyan's approximation. For ellipsoidal precipitates, the strain energy can be calculated using Eshelby's tensor [4,5].\r\n",
    "\r\n",
    "Similar to the Thermodynamics and Surrogate modules, the strain energy is calculated using a module separated from KWNBase. Inserting the strain energy parameters requires creating and setting up a StrainEnergy object, then inserting it into the KWN model for a specified phase.\r\n",
    "\r\n",
    "The StrainEnergy object requires the elastic constants and eigenstrains to be defined. External stresses can also be defined if applicable. The eigenstrains and external stress can be defined as a tensor (3x3), values along the three axes (array of length 3), or a single value to be applied on all 3 axes. The elastic constants can be defined using its 6x6 tensor, the three elastic constants ($c_{11}$, $c_{12}$ and $c_{44}$), or by at least two moduli (e.g. elastic modulus, poission ratio, shear modulus, bulk modulus, etc.)"
   ],
   "metadata": {}
  },
  {
   "cell_type": "code",
   "execution_count": 18,
   "source": [
    "from kawin.ElasticFactors import StrainEnergy\r\n",
    "\r\n",
    "#Create StrainEnergy object\r\n",
    "se = StrainEnergy()\r\n",
    "\r\n",
    "#Set elastic tensor by its elastic modulus and possion ratio\r\n",
    "se.setModuli(E = 100e9, nu = -0.3)\r\n",
    "\r\n",
    "#Set eigenstrains\r\n",
    "# [[0.01, 0.00, 0.00]\r\n",
    "#  [0.00, 0.01, 0.00]\r\n",
    "#  [0.00, 0.00, 0.02]]\r\n",
    "se.setEigenstrain([0.01, 0.01, 0.02])\r\n",
    "\r\n",
    "#Insert StrainEnergy object into KWN model\r\n",
    "model.setStrainEnergy(se)\r\n",
    "\r\n",
    "#Use strain energy to calculate aspect ratio (for plate- and needle-like precipitates)\r\n",
    "#This will override the aspect ratio that was defined when setting the precipitate shape\r\n",
    "model.setStrainEnergy(se, calculateAspectRatio=True)"
   ],
   "outputs": [],
   "metadata": {}
  },
  {
   "cell_type": "markdown",
   "source": [
    "## Strain Energy Example (Cu-Ti system)\r\n",
    "\r\n",
    "In the Cu-Ti system (dilute Ti), the needle-like $Cu_4Ti$ precipitate creates lattice strains in the Cu-matrix. The following parameters are applicable to this system (from K. Wu et al (2018)):\r\n",
    "\r\n",
    "Eigenstrains of the $Cu_4Ti$ precipitate:\r\n",
    "\r\n",
    "$ \\epsilon_{11} = 0.022 $\r\n",
    "\r\n",
    "$ \\epsilon_{22} = 0.022 $\r\n",
    "\r\n",
    "$ \\epsilon_{33} = 0.003 $\r\n",
    "\r\n",
    "Elastic constants for the Cu matrix\r\n",
    "\r\n",
    "$ c_{11} = 168.4 \\quad GPa $\r\n",
    "\r\n",
    "$ c_{12} = 121.4 \\quad GPa $\r\n",
    "\r\n",
    "$ c_{44} = 75.4 \\quad GPa $\r\n",
    "\r\n",
    "We can use these values to determine the strain energy of the $Cu_4Ti$ precipitate for any given aspect ratio. In this example, we'll vary the aspect ratio from 1 to 2 and calculate the strain energy. The volume of the precipitate will be set constant to the volume of a sphere with a radius of 4 nm."
   ],
   "metadata": {}
  },
  {
   "cell_type": "code",
   "execution_count": 19,
   "source": [
    "%matplotlib inline\r\n",
    "import matplotlib.pyplot as plt\r\n",
    "import numpy as np\r\n",
    "\r\n",
    "#By default, StrainEnergy outputs 0\r\n",
    "#This is changed within the KWN model before the model is solved for\r\n",
    "#However, we can manually change it. For this example, we need to set it to the calculate for ellipsoidal shapes\r\n",
    "se.setEllipsoidal()\r\n",
    "\r\n",
    "#Set elastic tensor by c11, c12 and c44 values\r\n",
    "se.setElasticConstants(168.4e9, 121.4e9, 75.4e9)\r\n",
    "\r\n",
    "#Set eigenstrains\r\n",
    "se.setEigenstrain([0.022, 0.022, 0.003])\r\n",
    "\r\n",
    "#Aspect ratio\r\n",
    "aspect = np.linspace(1, 2, 100)\r\n",
    "\r\n",
    "#Equivalent spherical radius of 4 nm\r\n",
    "rSph = 4e-9 / np.cbrt(aspect)\r\n",
    "r = np.array([rSph, rSph, aspect*rSph]).T\r\n",
    "\r\n",
    "E = se.strainEnergy(r)\r\n",
    "\r\n",
    "plt.plot(aspect, E)\r\n",
    "plt.xlim([1, 2])\r\n",
    "plt.ylim([1.0e-17, 1.5e-17])\r\n",
    "plt.xlabel('Aspect Ratio')\r\n",
    "plt.ylabel('Strain Energy (J)')\r\n",
    "plt.show()"
   ],
   "outputs": [
    {
     "output_type": "display_data",
     "data": {
      "image/png": "[encoded data removed]",
      "text/plain": [
       "<Figure size 432x288 with 1 Axes>"
      ]
     },
     "metadata": {
      "needs_background": "light"
     }
    }
   ],
   "metadata": {}
  },
  {
   "cell_type": "markdown",
   "source": [
    "## Calculating Aspect Ratio from Strain Energy\r\n",
    "\r\n",
    "The aspect ratio for plate- and needle-like precipitates can be determined by minimizing the energy contributions from the strain and interfacial energy contributions.\r\n",
    "\r\n",
    "$$ \\alpha = argmin\\left( \\frac{4}{3}\\pi R_{sph}^{3} \\Delta G_{el}(\\alpha) + 4 \\pi R_{sph}^{2} g(\\alpha) \\gamma \\right) $$\r\n",
    "\r\n",
    "Where $R_{sph}$ is the equivalent spherical radius. The strain energy module has two options for calculating the equilibrium aspect ratio: iterative or searching. The iterative method (StrainEnergy.eqAR_byGR) performs a Golden Section search to find the minimum. The search method (StrainEnergy.eqAR_bySearch) will calculate the net energy contribution for a number of aspect ratios and will return the aspect ratio that gives the minimum. By default, this method is accurate up to 2 significant digits. In addition, due to caching, this method is also faster than the iterative method for large number of calculations.\r\n",
    "\r\n",
    "## Example ($\\gamma''$ in IN718)\r\n",
    "\r\n",
    "The $\\gamma''$ precipitate in IN718 are plate shape where the aspect ratio depends on the size of the precipitate. Using the elastic properties of IN718 (shear modulus of 57.1 GPa and Poisson's ratio of 0.33) and the eigenstrain of the $\\gamma''$ precipitate, the relationship between the aspect ratio and precipitate diameter (long axis) can be found."
   ],
   "metadata": {}
  },
  {
   "cell_type": "code",
   "execution_count": 20,
   "source": [
    "from kawin.ShapeFactors import ShapeFactor\r\n",
    "\r\n",
    "#Strain energy parameters\r\n",
    "se = StrainEnergy()\r\n",
    "se.setEigenstrain([6.67e-3, 6.67e-3, 2.86e-2])\r\n",
    "se.setModuli(G=57.1e9, nu=0.33)\r\n",
    "se.setEllipsoidal()\r\n",
    "\r\n",
    "#Shape factor parameters (only the shape needs to be defined)\r\n",
    "sf = ShapeFactor()\r\n",
    "sf.setPlateShape()\r\n",
    "\r\n",
    "#Calculate equilibrium aspect ratio\r\n",
    "gamma = 0.02375\r\n",
    "Rsph = np.linspace(1e-10, 40e-9, 100)\r\n",
    "eqAR = se.eqAR_bySearch(Rsph, gamma, sf)\r\n",
    "\r\n",
    "#Convert spherical radius to diameter of the plate\r\n",
    "R = 2*Rsph / np.cbrt(eqAR**2)*eqAR\r\n",
    "\r\n",
    "#Plot diameter vs. aspect ratio\r\n",
    "plt.plot(R, eqAR)\r\n",
    "plt.xlim([0, 40e-9])\r\n",
    "plt.ylim([1, 7])\r\n",
    "plt.xlabel('Diameter (m)')\r\n",
    "plt.ylabel('Aspect Ratio')\r\n",
    "plt.show()"
   ],
   "outputs": [
    {
     "output_type": "display_data",
     "data": {
      "image/png": "[encoded data removed]",
      "text/plain": [
       "<Figure size 432x288 with 1 Axes>"
      ]
     },
     "metadata": {
      "needs_background": "light"
     }
    }
   ],
   "metadata": {}
  },
  {
   "cell_type": "markdown",
   "source": [
    "## References\r\n",
    "\r\n",
    "1. Kozeschnik, Ernst et al. Precipitation Modeling, Momentum Press, 2012\r\n",
    "2. P. J. Clemm and J. C. Fisher, \"The Influence of Grain Boundaries on the Nucleation of Secondary Phases\" *Acta Metallurgica* 3 (1955) p. 70\r\n",
    "3. B. Holmedal, E. Osmundsen, Q. Du, \"Precipitation of Non-Spherical Particles in Aluminum Alloys Part I: Generalization of the Kampmann-Wagner Numerical Model\" *Metallurgical and Materials Transactions A* 47 (2016) p. 581\r\n",
    "4. K. Wu, Q. Chen and P. Mason, \"Simulation of Precipitation Kinetics with Non-Spherical Particles\" *J. Phase Equilib. Diffus.* 39 (2018) p. 571\r\n",
    "5. C. Weinberger, W. Cai and D. Barnett, ME340B Lecture Notes - Elasticity of Microscopic Structures, Standford University 2005. http://micro.standford.edu/~caiwei/me340b/content/me340b-notes_v01.pdf"
   ],
   "metadata": {}
  }
 ],
 "metadata": {
  "interpreter": {
   "hash": "aeb1f0e8eece0f42caa0344dc51b89963a3e12d2287d92741ba047073b8d819b"
  },
  "kernelspec": {
   "name": "python3",
   "display_name": "Python 3.7.9 64-bit ('base': conda)"
  },
  "language_info": {
   "codemirror_mode": {
    "name": "ipython",
    "version": 3
   },
   "file_extension": ".py",
   "mimetype": "text/x-python",
   "name": "python",
   "nbconvert_exporter": "python",
   "pygments_lexer": "ipython3",
   "version": "3.7.9"
  }
 },
 "nbformat": 4,
 "nbformat_minor": 2
}